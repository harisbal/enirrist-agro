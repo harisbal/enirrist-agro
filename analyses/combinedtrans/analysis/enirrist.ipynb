{
 "cells": [
  {
   "cell_type": "code",
   "execution_count": 1,
   "id": "9e33dcdc",
   "metadata": {},
   "outputs": [],
   "source": [
    "import pandas as pd\n",
    "import geopandas as gpd\n",
    "\n",
    "import plotly.express as px\n",
    "import pydeck as pdk"
   ]
  },
  {
   "cell_type": "code",
   "execution_count": 2,
   "id": "e2dc99fe",
   "metadata": {},
   "outputs": [],
   "source": [
    "corresps = {}\n",
    "df = pd.read_csv(r'../data/corresps/corresp-nuts.csv')\n",
    "corresps['nuts'] = df.sort_values(['year', 'old']).groupby('old')['new'].last().to_dict()"
   ]
  },
  {
   "cell_type": "code",
   "execution_count": 3,
   "id": "de23e127",
   "metadata": {},
   "outputs": [],
   "source": [
    "epsgs = {'world': 4326, 'proj': 32633}"
   ]
  },
  {
   "cell_type": "code",
   "execution_count": 4,
   "id": "943e62d0",
   "metadata": {},
   "outputs": [],
   "source": [
    "main_greek_ports = ['GRGPA', 'GRPIR', 'GRIGO', 'GRSKG', 'GRLVR']"
   ]
  },
  {
   "cell_type": "code",
   "execution_count": 5,
   "id": "e9527651",
   "metadata": {},
   "outputs": [
    {
     "data": {
      "text/html": [
       "<div>\n",
       "<style scoped>\n",
       "    .dataframe tbody tr th:only-of-type {\n",
       "        vertical-align: middle;\n",
       "    }\n",
       "\n",
       "    .dataframe tbody tr th {\n",
       "        vertical-align: top;\n",
       "    }\n",
       "\n",
       "    .dataframe thead th {\n",
       "        text-align: right;\n",
       "    }\n",
       "</style>\n",
       "<table border=\"1\" class=\"dataframe\">\n",
       "  <thead>\n",
       "    <tr style=\"text-align: right;\">\n",
       "      <th></th>\n",
       "      <th>NUTS_ID</th>\n",
       "      <th>LEVL_CODE</th>\n",
       "      <th>CNTR_CODE</th>\n",
       "      <th>NAME_LATN</th>\n",
       "      <th>NUTS_NAME</th>\n",
       "      <th>MOUNT_TYPE</th>\n",
       "      <th>URBN_TYPE</th>\n",
       "      <th>COAST_TYPE</th>\n",
       "      <th>FID</th>\n",
       "      <th>geometry</th>\n",
       "    </tr>\n",
       "    <tr>\n",
       "      <th>id</th>\n",
       "      <th></th>\n",
       "      <th></th>\n",
       "      <th></th>\n",
       "      <th></th>\n",
       "      <th></th>\n",
       "      <th></th>\n",
       "      <th></th>\n",
       "      <th></th>\n",
       "      <th></th>\n",
       "      <th></th>\n",
       "    </tr>\n",
       "  </thead>\n",
       "  <tbody>\n",
       "    <tr>\n",
       "      <th>BG</th>\n",
       "      <td>BG</td>\n",
       "      <td>0</td>\n",
       "      <td>BG</td>\n",
       "      <td>Bulgaria</td>\n",
       "      <td>България</td>\n",
       "      <td>0.0</td>\n",
       "      <td>NaN</td>\n",
       "      <td>0</td>\n",
       "      <td>BG</td>\n",
       "      <td>POLYGON ((1143353.225 4881912.962, 1147981.182...</td>\n",
       "    </tr>\n",
       "    <tr>\n",
       "      <th>CH</th>\n",
       "      <td>CH</td>\n",
       "      <td>0</td>\n",
       "      <td>CH</td>\n",
       "      <td>Schweiz/Suisse/Svizzera</td>\n",
       "      <td>Schweiz/Suisse/Svizzera</td>\n",
       "      <td>0.0</td>\n",
       "      <td>NaN</td>\n",
       "      <td>0</td>\n",
       "      <td>CH</td>\n",
       "      <td>POLYGON ((21924.555 5314166.492, 21943.141 531...</td>\n",
       "    </tr>\n",
       "  </tbody>\n",
       "</table>\n",
       "</div>"
      ],
      "text/plain": [
       "   NUTS_ID  LEVL_CODE CNTR_CODE                NAME_LATN  \\\n",
       "id                                                         \n",
       "BG      BG          0        BG                 Bulgaria   \n",
       "CH      CH          0        CH  Schweiz/Suisse/Svizzera   \n",
       "\n",
       "                  NUTS_NAME  MOUNT_TYPE  URBN_TYPE  COAST_TYPE FID  \\\n",
       "id                                                                   \n",
       "BG                 България         0.0        NaN           0  BG   \n",
       "CH  Schweiz/Suisse/Svizzera         0.0        NaN           0  CH   \n",
       "\n",
       "                                             geometry  \n",
       "id                                                     \n",
       "BG  POLYGON ((1143353.225 4881912.962, 1147981.182...  \n",
       "CH  POLYGON ((21924.555 5314166.492, 21943.141 531...  "
      ]
     },
     "execution_count": 5,
     "metadata": {},
     "output_type": "execute_result"
    }
   ],
   "source": [
    "nuts = gpd.read_file(r'../data/boundaries/NUTS_RG_03M_2021_4326.json', ).set_index('id')\n",
    "#nuts = nuts[nuts.LEVL_CODE==3]\n",
    "nuts = nuts.set_crs(epsg=4326).to_crs(epsg=epsgs['proj'])\n",
    "\n",
    "#buffer to ensure inclusion of ports\n",
    "nuts.geometry = nuts.buffer(200)\n",
    "\n",
    "nuts_centroids = nuts.copy()\n",
    "nuts_centroids.geometry = nuts_centroids.geometry.centroid\n",
    "nuts.head(2)"
   ]
  },
  {
   "cell_type": "code",
   "execution_count": 6,
   "id": "c0ac7344",
   "metadata": {},
   "outputs": [
    {
     "data": {
      "text/html": [
       "<div>\n",
       "<style scoped>\n",
       "    .dataframe tbody tr th:only-of-type {\n",
       "        vertical-align: middle;\n",
       "    }\n",
       "\n",
       "    .dataframe tbody tr th {\n",
       "        vertical-align: top;\n",
       "    }\n",
       "\n",
       "    .dataframe thead th {\n",
       "        text-align: right;\n",
       "    }\n",
       "</style>\n",
       "<table border=\"1\" class=\"dataframe\">\n",
       "  <thead>\n",
       "    <tr style=\"text-align: right;\">\n",
       "      <th></th>\n",
       "      <th>nuts</th>\n",
       "      <th>country</th>\n",
       "      <th>geometry</th>\n",
       "    </tr>\n",
       "    <tr>\n",
       "      <th>id</th>\n",
       "      <th></th>\n",
       "      <th></th>\n",
       "      <th></th>\n",
       "    </tr>\n",
       "  </thead>\n",
       "  <tbody>\n",
       "    <tr>\n",
       "      <th>FRSXB</th>\n",
       "      <td>FR</td>\n",
       "      <td>FR</td>\n",
       "      <td>POINT (-34261.191 5405630.512)</td>\n",
       "    </tr>\n",
       "    <tr>\n",
       "      <th>FRYNE</th>\n",
       "      <td>FR</td>\n",
       "      <td>FR</td>\n",
       "      <td>POINT (-242083.058 4812559.159)</td>\n",
       "    </tr>\n",
       "  </tbody>\n",
       "</table>\n",
       "</div>"
      ],
      "text/plain": [
       "      nuts country                         geometry\n",
       "id                                                 \n",
       "FRSXB   FR      FR   POINT (-34261.191 5405630.512)\n",
       "FRYNE   FR      FR  POINT (-242083.058 4812559.159)"
      ]
     },
     "execution_count": 6,
     "metadata": {},
     "output_type": "execute_result"
    }
   ],
   "source": [
    "ports = gpd.read_file(r'../data/PORT_2013_SH/Data/PORT_PT_2013.shp')\n",
    "ports = ports.to_crs(epsg=epsgs['proj'])\n",
    "\n",
    "ports = ports.rename(columns={'PORT_ID': 'id'}).set_index('id')\n",
    "\n",
    "# Some ports are not placed within the respective nuts\n",
    "# ports.geometry = ports.buffer(200)\n",
    "\n",
    "ports = (ports.sjoin(nuts.reset_index()[['id', 'geometry']], predicate='within')\n",
    "              .rename(columns={'id': 'nuts'}).drop(columns=['index_right']))\n",
    "\n",
    "ports['country'] = ports['nuts'].str[0:2]\n",
    "\n",
    "cols = ['nuts', 'country', 'geometry']\n",
    "ports = ports[cols]\n",
    "\n",
    "# Keep only the main greek ports\n",
    "g = ports.loc[main_greek_ports]\n",
    "mask = ports['country']=='EL'\n",
    "ports = pd.concat([ports.drop(ports[mask].index), g])\n",
    "ports.head(2)"
   ]
  },
  {
   "cell_type": "code",
   "execution_count": 7,
   "id": "e55e8140",
   "metadata": {
    "scrolled": true
   },
   "outputs": [
    {
     "data": {
      "text/plain": [
       "id\n",
       "GRGPA    (EL65, EL65, EL65, EL65, EL651, EL651, EL651, ...\n",
       "GRPIR    (EL65, EL65, EL65, EL65, EL651, EL651, EL651, ...\n",
       "GRIGO    (EL622, EL622, EL622, EL622, AL035, AL035, AL0...\n",
       "GRSKG    (EL515, EL515, EL515, EL515, EL61, EL61, EL61,...\n",
       "GRLVR    (EL652, EL652, EL652, EL652, EL306, EL306, EL3...\n",
       "Name: FID, dtype: object"
      ]
     },
     "execution_count": 7,
     "metadata": {},
     "output_type": "execute_result"
    }
   ],
   "source": [
    "# Identify the catchment area\n",
    "dfg = ports.copy()\n",
    "dfg.geometry = dfg.buffer(150_000)\n",
    "catcharea = gpd.sjoin(dfg, nuts_centroids, predicate='contains').groupby(level='id')['FID'].agg(tuple)\n",
    "catcharea.loc[main_greek_ports]"
   ]
  },
  {
   "cell_type": "code",
   "execution_count": 8,
   "id": "4a7e940b",
   "metadata": {},
   "outputs": [],
   "source": [
    "tmp = pd.read_excel(r'../data/data.xlsx', sheet_name=list(range(7)))\n",
    "lookups = {}\n",
    "for m in tmp:\n",
    "    df = tmp[m]\n",
    "    df = df.set_index(df.columns[0]).squeeze()\n",
    "    lookups[tmp[m].columns[0]] = df.to_dict()"
   ]
  },
  {
   "cell_type": "code",
   "execution_count": 9,
   "id": "b87577c1",
   "metadata": {},
   "outputs": [],
   "source": [
    "try:\n",
    "    data = pd.read_pickle(r'../data/data.pkl')\n",
    "except:\n",
    "    data = pd.read_excel(r'../data/data.xlsx', sheet_name='DB')\n",
    "    #data = data.replace(namemaps)\n",
    "    data.to_pickle(r'../data/data.pkl')"
   ]
  },
  {
   "cell_type": "code",
   "execution_count": 10,
   "id": "21083754",
   "metadata": {},
   "outputs": [],
   "source": [
    "df = data.copy()\n",
    "df[\"combined\"] = ~df[\"origin_port\"].isna()        \n",
    "\n",
    "df['origin_nuts'] = df['origin_nuts'].replace(lookups['nuts'])\n",
    "df['destination_nuts'] = df['destination_nuts'].replace(lookups['nuts'])\n",
    "\n",
    "# df = df.replace(\"^GR\", \"EL\", regex=True)\n",
    "df[\"origin_country\"] = df[\"origin_nuts\"].str[0:2]\n",
    "df[\"destination_country\"] = df[\"destination_nuts\"].str[0:2]\n",
    "\n",
    "nuts_to_ports = ports.reset_index().set_index(\"nuts\")[\"id\"].to_dict()\n",
    "df[\"origin_port\"] = df[\"origin_port\"].replace(lookups['nuts']).replace(nuts_to_ports)\n",
    "df[\"destination_port\"] = df[\"destination_port\"].replace(lookups['nuts']).replace(nuts_to_ports)\n",
    "\n",
    "for col in ['carriage_type', 'package_type', 'cargo_type', 'cargo_group_type', 'vehicle_type']:\n",
    "    df[col] = df[col].replace(lookups[col])\n",
    "    df[col] = df[col].astype('category')\n",
    "\n",
    "df.to_pickle('../data/data-clean.pkl')"
   ]
  },
  {
   "cell_type": "code",
   "execution_count": null,
   "id": "00589380",
   "metadata": {},
   "outputs": [],
   "source": [
    "combined_trans = df[df['combined']]\n",
    "combined_trans.head(2)"
   ]
  },
  {
   "cell_type": "code",
   "execution_count": null,
   "id": "99c5e4e0",
   "metadata": {},
   "outputs": [],
   "source": []
  },
  {
   "cell_type": "code",
   "execution_count": null,
   "id": "51b8df3b",
   "metadata": {
    "scrolled": true
   },
   "outputs": [],
   "source": [
    "dff = combined_trans.copy()\n",
    "dff = dff[dff.origin_country=='EL']\n",
    "dff = dff[dff.destination_country!='EL']\n",
    "#dff['origin_nuts'] = dff['origin_nuts'].replace(lookups['Nuts-name'])\n",
    "#dff['destination_nuts'] = dff['destination_nuts'].replace(lookups['Nuts-name'])\n",
    "#dff = dff.groupby(['origin_port', 'origin_nuts']).size().unstack()\n",
    "#dff.loc['GRGPA'].dropna()"
   ]
  },
  {
   "cell_type": "code",
   "execution_count": null,
   "id": "70de308c",
   "metadata": {},
   "outputs": [],
   "source": [
    "dff.origin_nuts"
   ]
  },
  {
   "cell_type": "code",
   "execution_count": null,
   "id": "f492544f",
   "metadata": {
    "scrolled": true
   },
   "outputs": [],
   "source": [
    "nuts.loc['EL3']"
   ]
  },
  {
   "cell_type": "code",
   "execution_count": null,
   "id": "6efd6877",
   "metadata": {},
   "outputs": [],
   "source": [
    "lvl = 1\n",
    "\n",
    "dff = combined_trans.copy()\n",
    "dff = dff[dff.origin_country=='EL']\n",
    "dff = dff[dff.destination_country!='EL']\n",
    "dff = dff[dff.origin_port=='GRGPA']\n",
    "\n",
    "dff.origin_nuts = dff.origin_nuts.str[:-3+lvl]\n",
    "dff.origin_nuts"
   ]
  },
  {
   "cell_type": "code",
   "execution_count": null,
   "id": "5257e2d7",
   "metadata": {},
   "outputs": [],
   "source": [
    "dff = combined_trans.copy()\n",
    "dff = dff[dff.origin_country=='EL']\n",
    "dff = dff[dff.destination_country!='EL']\n",
    "dff = dff[dff.origin_port=='GRGPA']\n",
    "\n",
    "dff.origin_nuts = dff.origin_nuts.str[:4] \n",
    "dff = dff.groupby(['destination_nuts'])['loaded_weight_kg'].size()\n",
    "\n",
    "n = nuts.copy()\n",
    "dfp = n.join(dff, how='right')\n",
    "dfp = dfp.to_crs(epsg=epsgs['world'])\n",
    "\n",
    "bbox = dfp.total_bounds\n",
    "center = {'lat': (bbox[1]+bbox[3])/2, 'lon': (bbox[0]+bbox[2])/2}\n",
    "\n",
    "dfp.ori\n",
    "px.choropleth_mapbox(dfp, geojson=dfp.geometry, locations=dfp.index,\n",
    "                           color='loaded_weight_kg',\n",
    "                           center=center,\n",
    "                           color_continuous_scale=px.colors.sequential.Reds[1:],\n",
    "                           mapbox_style='carto-positron')"
   ]
  },
  {
   "cell_type": "code",
   "execution_count": null,
   "id": "eb35be02",
   "metadata": {},
   "outputs": [],
   "source": [
    "dfp.groupby('CNTR_CODE')['loaded_weight_kg'].sum()"
   ]
  },
  {
   "cell_type": "code",
   "execution_count": null,
   "id": "29a68e22",
   "metadata": {},
   "outputs": [],
   "source": [
    "dff = df[df.destination_country!='EL']\n",
    "dff"
   ]
  },
  {
   "cell_type": "code",
   "execution_count": null,
   "id": "450cb4b2",
   "metadata": {},
   "outputs": [],
   "source": []
  },
  {
   "cell_type": "code",
   "execution_count": null,
   "id": "bd606ffb",
   "metadata": {},
   "outputs": [],
   "source": [
    "df = combined_trans.copy()\n",
    "df"
   ]
  },
  {
   "cell_type": "code",
   "execution_count": null,
   "id": "81d93933",
   "metadata": {},
   "outputs": [],
   "source": [
    "port = 'GRGPA'\n",
    "catchareaf = catcharea.loc[port:port]\n",
    "catchareaf"
   ]
  },
  {
   "cell_type": "code",
   "execution_count": null,
   "id": "1df3ce30",
   "metadata": {
    "scrolled": false
   },
   "outputs": [],
   "source": [
    "# Filter the combined transports based on the 75/130/EEC directive \n",
    "mask = df[['origin_port', 'origin_nuts']].apply(lambda x: x['origin_nuts'] in catchareaf.get(x['origin_port'], []), axis=1)\n",
    "dff = df[mask]\n",
    "dff"
   ]
  },
  {
   "cell_type": "code",
   "execution_count": null,
   "id": "2dc6ccd0",
   "metadata": {
    "scrolled": true
   },
   "outputs": [],
   "source": [
    "vols = dff.groupby(['origin_nuts', 'destination_nuts'])['loaded_weight_kg'].sum()\n",
    "origs = vols.reset_index().set_index('origin_nuts').join(nuts_centroids['geometry']).rename(columns={'geometry': 'orig_geom'})\n",
    "origs.index.name = 'origin_nuts'\n",
    "#dests = vols.reset_index().set_index('destination_nuts').join(nuts_centroids['geometry'])\n",
    "dfg = (origs.reset_index().set_index('destination_nuts').join(nuts_centroids['geometry'])\n",
    "            .rename(columns={'geometry': 'dest_geom'}).dropna(how='any'))\n",
    "dfg.index.name = 'destination_nuts'\n",
    "dfg = dfg.reset_index().set_index(['origin_nuts', 'destination_nuts'])\n",
    "df1 = dfg['orig_geom'].to_frame().reset_index()\n",
    "df2 = dfg['dest_geom'].to_frame().reset_index()\n",
    "\n",
    "df1['index'] = df1['origin_nuts'] + '-' + df1['destination_nuts'] + '-1'\n",
    "df2['index'] = df1['origin_nuts'] + '-' + df1['destination_nuts'] + '-2'\n",
    "\n",
    "\n",
    "df = pd.concat([df1, df2]).sort_values('index')\n",
    "#df['geometry'] = df['orig_geom'].fillna(df['dest_geom'].values)\n",
    "df['orig_geom'].update(df['dest_geom'])\n",
    "\n",
    "df = df.rename(columns={'orig_geom': 'geometry'}).drop(columns=['dest_geom'])\n",
    "df = gpd.GeoDataFrame(df, geometry=df.geometry).set_index('index')\n",
    "\n",
    "df = df.set_crs(epsg=epsgs['proj']).to_crs(epsg=4326)\n",
    "df['lat'] = gpd.GeoSeries(df['geometry']).y\n",
    "df['lng'] = gpd.GeoSeries(df['geometry']).x\n",
    "\n",
    "\n",
    "df['color'] = (df.reset_index()['index'].values)\n",
    "df['color'] = df['color'].str[0:-2]\n",
    "\n",
    "df = pd.merge(df, vols, left_on=['origin_nuts', 'destination_nuts'], right_index=True)"
   ]
  },
  {
   "cell_type": "code",
   "execution_count": null,
   "id": "b6d4871e",
   "metadata": {
    "scrolled": true
   },
   "outputs": [],
   "source": [
    "px.line_mapbox(df, lat='lat', lon='lng', mapbox_style='carto-positron')"
   ]
  },
  {
   "cell_type": "code",
   "execution_count": null,
   "id": "6221fa40",
   "metadata": {},
   "outputs": [],
   "source": []
  },
  {
   "cell_type": "code",
   "execution_count": null,
   "id": "130a42fd",
   "metadata": {},
   "outputs": [],
   "source": [
    "df"
   ]
  },
  {
   "cell_type": "code",
   "execution_count": null,
   "id": "b4672e78",
   "metadata": {
    "scrolled": false
   },
   "outputs": [],
   "source": [
    "from shapely.geometry import LineString\n",
    "\n",
    "vols = dff.groupby(['origin_nuts', 'destination_nuts'])['loaded_weight_kg'].sum().to_frame()\n",
    "\n",
    "vols = (vols.join(nuts_centroids['geometry'], on=['origin_nuts']).rename(columns={'geometry': 'orig_geom'})\n",
    "            .join(nuts_centroids['geometry'], on=['destination_nuts']).rename(columns={'geometry': 'dest_geom'})\n",
    "            .dropna(how='any', subset=['orig_geom', 'dest_geom']))\n",
    "\n",
    "geom = vols[['orig_geom', 'dest_geom']].apply(lambda x: LineString([x['orig_geom'], x['dest_geom']]), axis=1)\n",
    "vols = gpd.GeoDataFrame(vols, geometry=geom).drop(columns=['orig_geom', 'dest_geom'])\n",
    "vols = vols.set_crs(epsg=epsgs['proj']).to_crs(epsgs['world'])\n",
    "\n",
    "df = pd.DataFrame(vols.geometry.apply(lambda x: [x.coords[0][0], x.coords[0][1], x.coords[-1][0], x.coords[-1][1]]).tolist(),\n",
    "                      index=vols.index,\n",
    "                      columns=['orig_lon', 'orig_lat', 'dest_lon', 'dest_lat'])\n",
    "df = df.join(vols['loaded_weight_kg'])\n",
    "df\n",
    "\n",
    "\n",
    "GREEN_RGB = [0, 255, 0, 40]\n",
    "RED_RGB = [240, 100, 0, 40]\n",
    "\n",
    "# Specify a deck.gl ArcLayer\n",
    "arc_layer = pdk.Layer(\n",
    "    \"ArcLayer\",\n",
    "    data=df,\n",
    "    get_width=\"loaded_weight_kg / 10000\",\n",
    "    get_source_position=[\"orig_lon\", \"orig_lat\"],\n",
    "    get_target_position=[\"dest_lon\", \"dest_lat\"],\n",
    "    get_tilt=15,\n",
    "    get_source_color=GREEN_RGB,\n",
    "    get_target_color=RED_RGB,\n",
    "    pickable=True,\n",
    "    auto_highlight=True,\n",
    ")\n",
    "\n",
    "view_state = pdk.ViewState(latitude=38.095071, longitude=23.394901, bearing=45, pitch=50, zoom=8,)\n",
    "\n",
    "TOOLTIP_TEXT = {\"html\": \"loaded_weight_kg: {loaded_weight_kg}\"}\n",
    "r = pdk.Deck(arc_layer, initial_view_state=view_state, tooltip=TOOLTIP_TEXT, map_style='light')\n",
    "r"
   ]
  },
  {
   "cell_type": "code",
   "execution_count": null,
   "id": "24336465",
   "metadata": {},
   "outputs": [],
   "source": [
    "DATA_URL = \"https://raw.githubusercontent.com/ajduberstein/sf_public_data/master/bay_area_commute_routes.csv\"\n",
    "# A bounding box for downtown San Francisco, to help filter this commuter data\n",
    "DOWNTOWN_BOUNDING_BOX = [\n",
    "    -122.43135291617365,\n",
    "    37.766492914983864,\n",
    "    -122.38706428091974,\n",
    "    37.80583561830737,\n",
    "]\n",
    "\n",
    "\n",
    "def in_bounding_box(point):\n",
    "    \"\"\"Determine whether a point is in our downtown bounding box\"\"\"\n",
    "    lng, lat = point\n",
    "    in_lng_bounds = DOWNTOWN_BOUNDING_BOX[0] <= lng <= DOWNTOWN_BOUNDING_BOX[2]\n",
    "    in_lat_bounds = DOWNTOWN_BOUNDING_BOX[1] <= lat <= DOWNTOWN_BOUNDING_BOX[3]\n",
    "    return in_lng_bounds and in_lat_bounds\n",
    "\n",
    "\n",
    "df = pd.read_csv(DATA_URL)\n",
    "# Filter to bounding box\n",
    "df = df[df[[\"lng_w\", \"lat_w\"]].apply(lambda row: in_bounding_box(row), axis=1)]\n",
    "\n",
    "GREEN_RGB = [0, 255, 0, 40]\n",
    "RED_RGB = [240, 100, 0, 40]\n",
    "\n",
    "# Specify a deck.gl ArcLayer\n",
    "arc_layer = pdk.Layer(\n",
    "    \"ArcLayer\",\n",
    "    data=df,\n",
    "    get_width=\"S000 * 2\",\n",
    "    get_source_position=[\"lng_h\", \"lat_h\"],\n",
    "    get_target_position=[\"lng_w\", \"lat_w\"],\n",
    "    get_tilt=15,\n",
    "    get_source_color=RED_RGB,\n",
    "    get_target_color=GREEN_RGB,\n",
    "    pickable=True,\n",
    "    auto_highlight=True,\n",
    ")\n",
    "\n",
    "view_state = pdk.ViewState(latitude=37.7576171, longitude=-122.5776844, bearing=45, pitch=50, zoom=8,)\n",
    "\n",
    "\n",
    "TOOLTIP_TEXT = {\"html\": \"{S000} jobs <br /> Home of commuter in red; work location in green\"}\n",
    "r = pdk.Deck(arc_layer, initial_view_state=view_state, tooltip=TOOLTIP_TEXT)\n",
    "r.show()"
   ]
  },
  {
   "cell_type": "code",
   "execution_count": null,
   "id": "96b4a72c",
   "metadata": {},
   "outputs": [],
   "source": []
  },
  {
   "cell_type": "code",
   "execution_count": null,
   "id": "a491ed6b",
   "metadata": {
    "scrolled": false
   },
   "outputs": [],
   "source": [
    "mask = (df['origin_country'] == 'EL') & (df['origin_port']== 'GRGPA')\n",
    "dff = df[mask]\n",
    "\n",
    "origs = dff[['origin_nuts', 'loaded_weight_kg']].set_index('origin_nuts').squeeze()\n",
    "dests = dff[['destination_nuts', 'unloaded_weight_kg']].set_index('destination_nuts').squeeze()\n",
    "dfp = nuts.copy()\n",
    "\n",
    "dfo = dfp.join(origs).rename(columns={'loaded_weight_kg': 'value'})\n",
    "dfd = dfp.join(dests).rename(columns={'unloaded_weight_kg': 'value'})\n",
    "dfd['value'] *= -1\n",
    "\n",
    "dfp = pd.concat([dfo, dfd])\n",
    "bbox = dfp.total_bounds\n",
    "center = {'lat': (bbox[1]+bbox[3])/2, 'lon': (bbox[0]+bbox[2])/2}\n",
    "dfp = dfp.dropna(subset=['value'], how='all')\n",
    "\n",
    "fig = px.choropleth_mapbox(dfp, \n",
    "                           geojson=dfp.geometry,\n",
    "                           locations=dfp.index,\n",
    "                           color='value',\n",
    "                           color_continuous_scale=px.colors.diverging.RdBu_r,\n",
    "                           center=center,\n",
    "                           height=1000, width=1000,\n",
    "                           zoom=3,\n",
    "                           mapbox_style='carto-positron')\n",
    "fig"
   ]
  },
  {
   "cell_type": "code",
   "execution_count": null,
   "id": "410dce2a",
   "metadata": {
    "scrolled": true
   },
   "outputs": [],
   "source": [
    "fig = px.scatter_mapbox(ports, lat=ports.geometry.y, lon=ports.geometry.x,\n",
    "                        color='country', mapbox_style='carto-positron')\n",
    "fig"
   ]
  },
  {
   "cell_type": "code",
   "execution_count": null,
   "id": "cbd87fc1",
   "metadata": {},
   "outputs": [],
   "source": [
    "dfg = df.groupby(['area_code_origin', 'area_code_destination'])[['load_weight_kg', 'unload_weight_kg']].sum()"
   ]
  },
  {
   "cell_type": "code",
   "execution_count": null,
   "id": "05c09dbb",
   "metadata": {},
   "outputs": [],
   "source": [
    "col = 'load_weight_kg'\n",
    "\n",
    "nuts_orig = 'EL302'\n",
    "v = dfg.loc[nuts_orig, col]\n",
    "\n",
    "bounds = nuts.copy()\n",
    "bounds = bounds.join(v).dropna(subset=col)\n",
    "\n",
    "bbox = bounds.total_bounds\n",
    "center = {'lat': (bbox[1]+bbox[3])/2, 'lon': (bbox[0]+bbox[2])/2}\n",
    "\n",
    "fig = px.choropleth_mapbox(bounds, \n",
    "                           geojson=bounds.geometry,\n",
    "                           locations=bounds.index,\n",
    "                           color=col,\n",
    "                           color_continuous_scale='reds',\n",
    "                           center=center,\n",
    "                           zoom=3,\n",
    "                           mapbox_style='carto-positron')\n",
    "fig"
   ]
  },
  {
   "cell_type": "code",
   "execution_count": null,
   "id": "1c4e86ad",
   "metadata": {},
   "outputs": [],
   "source": []
  }
 ],
 "metadata": {
  "kernelspec": {
   "display_name": "Python 3 (ipykernel)",
   "language": "python",
   "name": "python3"
  },
  "language_info": {
   "codemirror_mode": {
    "name": "ipython",
    "version": 3
   },
   "file_extension": ".py",
   "mimetype": "text/x-python",
   "name": "python",
   "nbconvert_exporter": "python",
   "pygments_lexer": "ipython3",
   "version": "3.10.2"
  }
 },
 "nbformat": 4,
 "nbformat_minor": 5
}
